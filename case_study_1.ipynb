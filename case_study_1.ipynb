{
  "nbformat": 4,
  "nbformat_minor": 0,
  "metadata": {
    "colab": {
      "name": "case_study_1.ipynb",
      "provenance": []
    },
    "kernelspec": {
      "name": "python3",
      "display_name": "Python 3"
    },
    "language_info": {
      "name": "python"
    }
  },
  "cells": [
    {
      "cell_type": "markdown",
      "source": [
        "# CASE STUDY 1\n",
        "\n",
        "Below is a data set that represents thousands of loans made through the Lending Club platform, which is a platform that allows individuals to lend to other individuals.\n",
        "We would like you to perform the following using the language of your choice:\n",
        "\n",
        "* Describe the dataset and any issues with it.\n",
        "* Generate a minimum of 5 unique visualizations using the data and write a brief description of your observations. Additionally, all attempts should be made to make the visualizations visually appealing\n",
        "* Create a feature set and create a model which predicts interest_rate using at least 2 algorithms. Describe any data cleansing that must be performed and analysis when examining the data.\n",
        "* Visualize the test results and propose enhancements to the model, what would you do if you had more time. Also describe assumptions you made and your approach.\n",
        "\n",
        "Dataset\n",
        "https://www.openintro.org/data/index.php?data=loans_full_schema \n",
        "Output\n",
        "An HTML website hosting all visualizations and documenting all visualizations and descriptions. All code hosted on GitHub for viewing. Please provide URL’s to both the output and the GitHub repo.\n",
        "\n",
        "* If you submit a jupyter notebook, also submit the accompanying python file. You may use python(.py), R, and RMD(knit to HTML) files. Other languages are acceptable as well.\n"
      ],
      "metadata": {
        "id": "RuWMfEaaOZLx"
      }
    },
    {
      "cell_type": "markdown",
      "source": [
        "### Importing necessary packages"
      ],
      "metadata": {
        "id": "kra1bpSydQSx"
      }
    },
    {
      "cell_type": "code",
      "execution_count": 32,
      "metadata": {
        "id": "Gc5V5s0yNrHa"
      },
      "outputs": [],
      "source": [
        "import pandas as pd\n",
        "import numpy as np\n",
        "import matplotlib.pyplot as plt"
      ]
    },
    {
      "cell_type": "markdown",
      "source": [
        "### Uploading the data file"
      ],
      "metadata": {
        "id": "oeK0S3AMdUKU"
      }
    },
    {
      "cell_type": "code",
      "source": [
        "from google.colab import files\n",
        "uploaded = files.upload()\n",
        "import io\n",
        "data = pd.read_csv(io.BytesIO(uploaded['loans_full_schema.csv']))"
      ],
      "metadata": {
        "id": "p-2xo7kVPCzH",
        "colab": {
          "resources": {
            "http://localhost:8080/nbextensions/google.colab/files.js": {
              "data": "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",
              "ok": true,
              "headers": [
                [
                  "content-type",
                  "application/javascript"
                ]
              ],
              "status": 200,
              "status_text": ""
            }
          },
          "base_uri": "https://localhost:8080/",
          "height": 73
        },
        "outputId": "31ff58c5-6bf5-49b5-c4b7-129460d352c3"
      },
      "execution_count": 33,
      "outputs": [
        {
          "output_type": "display_data",
          "data": {
            "text/plain": [
              "<IPython.core.display.HTML object>"
            ],
            "text/html": [
              "\n",
              "     <input type=\"file\" id=\"files-755935d1-d034-4e60-816d-46deb7420488\" name=\"files[]\" multiple disabled\n",
              "        style=\"border:none\" />\n",
              "     <output id=\"result-755935d1-d034-4e60-816d-46deb7420488\">\n",
              "      Upload widget is only available when the cell has been executed in the\n",
              "      current browser session. Please rerun this cell to enable.\n",
              "      </output>\n",
              "      <script src=\"/nbextensions/google.colab/files.js\"></script> "
            ]
          },
          "metadata": {}
        },
        {
          "output_type": "stream",
          "name": "stdout",
          "text": [
            "Saving loans_full_schema.csv to loans_full_schema (1).csv\n"
          ]
        }
      ]
    },
    {
      "cell_type": "code",
      "source": [
        "print(data.head())"
      ],
      "metadata": {
        "colab": {
          "base_uri": "https://localhost:8080/"
        },
        "id": "FDgcF3CW2Rd0",
        "outputId": "38349922-e03c-48b4-f4ac-80e2ebe4cdae"
      },
      "execution_count": 34,
      "outputs": [
        {
          "output_type": "stream",
          "name": "stdout",
          "text": [
            "                 emp_title  emp_length state homeownership  annual_income  \\\n",
            "0  global config engineer          3.0    NJ      MORTGAGE        90000.0   \n",
            "1   warehouse office clerk        10.0    HI          RENT        40000.0   \n",
            "2                 assembly         3.0    WI          RENT        40000.0   \n",
            "3         customer service         1.0    PA          RENT        30000.0   \n",
            "4     security supervisor         10.0    CA          RENT        35000.0   \n",
            "\n",
            "   verified_income  debt_to_income  annual_income_joint  \\\n",
            "0         Verified           18.01                  NaN   \n",
            "1     Not Verified            5.04                  NaN   \n",
            "2  Source Verified           21.15                  NaN   \n",
            "3     Not Verified           10.16                  NaN   \n",
            "4         Verified           57.96              57000.0   \n",
            "\n",
            "  verification_income_joint  debt_to_income_joint  ...  sub_grade  \\\n",
            "0                       NaN                   NaN  ...         C3   \n",
            "1                       NaN                   NaN  ...         C1   \n",
            "2                       NaN                   NaN  ...         D1   \n",
            "3                       NaN                   NaN  ...         A3   \n",
            "4                  Verified                 37.66  ...         C3   \n",
            "\n",
            "   issue_month  loan_status  initial_listing_status  disbursement_method  \\\n",
            "0     Mar-2018      Current                   whole                 Cash   \n",
            "1     Feb-2018      Current                   whole                 Cash   \n",
            "2     Feb-2018      Current              fractional                 Cash   \n",
            "3     Jan-2018      Current                   whole                 Cash   \n",
            "4     Mar-2018      Current                   whole                 Cash   \n",
            "\n",
            "    balance  paid_total  paid_principal  paid_interest  paid_late_fees  \n",
            "0  27015.86     1999.33          984.14        1015.19             0.0  \n",
            "1   4651.37      499.12          348.63         150.49             0.0  \n",
            "2   1824.63      281.80          175.37         106.43             0.0  \n",
            "3  18853.26     3312.89         2746.74         566.15             0.0  \n",
            "4  21430.15     2324.65         1569.85         754.80             0.0  \n",
            "\n",
            "[5 rows x 55 columns]\n"
          ]
        }
      ]
    },
    {
      "cell_type": "code",
      "source": [
        "print(data.info())"
      ],
      "metadata": {
        "colab": {
          "base_uri": "https://localhost:8080/"
        },
        "id": "fpgU5Pa9z1MF",
        "outputId": "42a36892-b130-449e-8e2e-cc024992ca36"
      },
      "execution_count": 35,
      "outputs": [
        {
          "output_type": "stream",
          "name": "stdout",
          "text": [
            "<class 'pandas.core.frame.DataFrame'>\n",
            "RangeIndex: 10000 entries, 0 to 9999\n",
            "Data columns (total 55 columns):\n",
            " #   Column                            Non-Null Count  Dtype  \n",
            "---  ------                            --------------  -----  \n",
            " 0   emp_title                         9167 non-null   object \n",
            " 1   emp_length                        9183 non-null   float64\n",
            " 2   state                             10000 non-null  object \n",
            " 3   homeownership                     10000 non-null  object \n",
            " 4   annual_income                     10000 non-null  float64\n",
            " 5   verified_income                   10000 non-null  object \n",
            " 6   debt_to_income                    9976 non-null   float64\n",
            " 7   annual_income_joint               1495 non-null   float64\n",
            " 8   verification_income_joint         1455 non-null   object \n",
            " 9   debt_to_income_joint              1495 non-null   float64\n",
            " 10  delinq_2y                         10000 non-null  int64  \n",
            " 11  months_since_last_delinq          4342 non-null   float64\n",
            " 12  earliest_credit_line              10000 non-null  int64  \n",
            " 13  inquiries_last_12m                10000 non-null  int64  \n",
            " 14  total_credit_lines                10000 non-null  int64  \n",
            " 15  open_credit_lines                 10000 non-null  int64  \n",
            " 16  total_credit_limit                10000 non-null  int64  \n",
            " 17  total_credit_utilized             10000 non-null  int64  \n",
            " 18  num_collections_last_12m          10000 non-null  int64  \n",
            " 19  num_historical_failed_to_pay      10000 non-null  int64  \n",
            " 20  months_since_90d_late             2285 non-null   float64\n",
            " 21  current_accounts_delinq           10000 non-null  int64  \n",
            " 22  total_collection_amount_ever      10000 non-null  int64  \n",
            " 23  current_installment_accounts      10000 non-null  int64  \n",
            " 24  accounts_opened_24m               10000 non-null  int64  \n",
            " 25  months_since_last_credit_inquiry  8729 non-null   float64\n",
            " 26  num_satisfactory_accounts         10000 non-null  int64  \n",
            " 27  num_accounts_120d_past_due        9682 non-null   float64\n",
            " 28  num_accounts_30d_past_due         10000 non-null  int64  \n",
            " 29  num_active_debit_accounts         10000 non-null  int64  \n",
            " 30  total_debit_limit                 10000 non-null  int64  \n",
            " 31  num_total_cc_accounts             10000 non-null  int64  \n",
            " 32  num_open_cc_accounts              10000 non-null  int64  \n",
            " 33  num_cc_carrying_balance           10000 non-null  int64  \n",
            " 34  num_mort_accounts                 10000 non-null  int64  \n",
            " 35  account_never_delinq_percent      10000 non-null  float64\n",
            " 36  tax_liens                         10000 non-null  int64  \n",
            " 37  public_record_bankrupt            10000 non-null  int64  \n",
            " 38  loan_purpose                      10000 non-null  object \n",
            " 39  application_type                  10000 non-null  object \n",
            " 40  loan_amount                       10000 non-null  int64  \n",
            " 41  term                              10000 non-null  int64  \n",
            " 42  interest_rate                     10000 non-null  float64\n",
            " 43  installment                       10000 non-null  float64\n",
            " 44  grade                             10000 non-null  object \n",
            " 45  sub_grade                         10000 non-null  object \n",
            " 46  issue_month                       10000 non-null  object \n",
            " 47  loan_status                       10000 non-null  object \n",
            " 48  initial_listing_status            10000 non-null  object \n",
            " 49  disbursement_method               10000 non-null  object \n",
            " 50  balance                           10000 non-null  float64\n",
            " 51  paid_total                        10000 non-null  float64\n",
            " 52  paid_principal                    10000 non-null  float64\n",
            " 53  paid_interest                     10000 non-null  float64\n",
            " 54  paid_late_fees                    10000 non-null  float64\n",
            "dtypes: float64(17), int64(25), object(13)\n",
            "memory usage: 4.2+ MB\n",
            "None\n"
          ]
        }
      ]
    },
    {
      "cell_type": "markdown",
      "source": [
        "## Obtaining the description of the data. \n",
        "\n"
      ],
      "metadata": {
        "id": "IPQ9RSCqda3R"
      }
    },
    {
      "cell_type": "markdown",
      "source": [
        "\n",
        "\n",
        "The dataset contains 10000 rows and 55 columns. \n",
        "\n",
        "Some of the columns have null values. Some of the columns('annual_income_joint','verification_income_joint' etc) are mostly filled with null values.\n",
        "The data set contains the loan details for 3 months, February, January and March for the year 2018. It includes various factors like state, annual pay, houseownership etc.\n",
        "\n"
      ],
      "metadata": {
        "id": "bGzWjHwNzkUC"
      }
    },
    {
      "cell_type": "code",
      "source": [
        "print(data.describe())"
      ],
      "metadata": {
        "colab": {
          "base_uri": "https://localhost:8080/"
        },
        "id": "brokP0BwPdus",
        "outputId": "42c9ae85-c88b-4a84-c51f-d2eccb7f1c90"
      },
      "execution_count": 36,
      "outputs": [
        {
          "output_type": "stream",
          "name": "stdout",
          "text": [
            "        emp_length  annual_income  debt_to_income  annual_income_joint  \\\n",
            "count  9183.000000   1.000000e+04     9976.000000         1.495000e+03   \n",
            "mean      5.930306   7.922215e+04       19.308192         1.279146e+05   \n",
            "std       3.703734   6.473429e+04       15.004851         7.016838e+04   \n",
            "min       0.000000   0.000000e+00        0.000000         1.920000e+04   \n",
            "25%       2.000000   4.500000e+04       11.057500         8.683350e+04   \n",
            "50%       6.000000   6.500000e+04       17.570000         1.130000e+05   \n",
            "75%      10.000000   9.500000e+04       25.002500         1.515455e+05   \n",
            "max      10.000000   2.300000e+06      469.090000         1.100000e+06   \n",
            "\n",
            "       debt_to_income_joint    delinq_2y  months_since_last_delinq  \\\n",
            "count           1495.000000  10000.00000               4342.000000   \n",
            "mean              19.979304      0.21600                 36.760709   \n",
            "std                8.054781      0.68366                 21.634939   \n",
            "min                0.320000      0.00000                  1.000000   \n",
            "25%               14.160000      0.00000                 19.000000   \n",
            "50%               19.720000      0.00000                 34.000000   \n",
            "75%               25.500000      0.00000                 53.000000   \n",
            "max               39.980000     13.00000                118.000000   \n",
            "\n",
            "       earliest_credit_line  inquiries_last_12m  total_credit_lines  ...  \\\n",
            "count           10000.00000         10000.00000        10000.000000  ...   \n",
            "mean             2001.29000             1.95820           22.679600  ...   \n",
            "std                 7.79551             2.38013           11.885439  ...   \n",
            "min              1963.00000             0.00000            2.000000  ...   \n",
            "25%              1997.00000             0.00000           14.000000  ...   \n",
            "50%              2003.00000             1.00000           21.000000  ...   \n",
            "75%              2006.00000             3.00000           29.000000  ...   \n",
            "max              2015.00000            29.00000           87.000000  ...   \n",
            "\n",
            "       public_record_bankrupt   loan_amount          term  interest_rate  \\\n",
            "count            10000.000000  10000.000000  10000.000000   10000.000000   \n",
            "mean                 0.123800  16361.922500     43.272000      12.427524   \n",
            "std                  0.337172  10301.956759     11.029877       5.001105   \n",
            "min                  0.000000   1000.000000     36.000000       5.310000   \n",
            "25%                  0.000000   8000.000000     36.000000       9.430000   \n",
            "50%                  0.000000  14500.000000     36.000000      11.980000   \n",
            "75%                  0.000000  24000.000000     60.000000      15.050000   \n",
            "max                  3.000000  40000.000000     60.000000      30.940000   \n",
            "\n",
            "        installment       balance    paid_total  paid_principal  \\\n",
            "count  10000.000000  10000.000000  10000.000000    10000.000000   \n",
            "mean     476.205323  14458.916610   2494.234773     1894.448466   \n",
            "std      294.851627   9964.561865   3958.230365     3884.407175   \n",
            "min       30.750000      0.000000      0.000000        0.000000   \n",
            "25%      256.040000   6679.065000    928.700000      587.100000   \n",
            "50%      398.420000  12379.495000   1563.300000      984.990000   \n",
            "75%      644.690000  20690.182500   2616.005000     1694.555000   \n",
            "max     1566.590000  40000.000000  41630.443684    40000.000000   \n",
            "\n",
            "       paid_interest  paid_late_fees  \n",
            "count   10000.000000    10000.000000  \n",
            "mean      599.666781        0.119516  \n",
            "std       517.328062        1.813468  \n",
            "min         0.000000        0.000000  \n",
            "25%       221.757500        0.000000  \n",
            "50%       446.140000        0.000000  \n",
            "75%       825.420000        0.000000  \n",
            "max      4216.440000       52.980000  \n",
            "\n",
            "[8 rows x 42 columns]\n"
          ]
        }
      ]
    },
    {
      "cell_type": "code",
      "source": [
        "result1=data.groupby('issue_month')['annual_income'].sum()\n",
        "print(pd.DataFrame(result1))"
      ],
      "metadata": {
        "colab": {
          "base_uri": "https://localhost:8080/"
        },
        "id": "4IcusFnWsE-n",
        "outputId": "0290839a-c5b8-4cf3-d658-356dddc7211c"
      },
      "execution_count": null,
      "outputs": [
        {
          "output_type": "stream",
          "name": "stdout",
          "text": [
            "             annual_income\n",
            "issue_month               \n",
            "Feb-2018      2.363120e+08\n",
            "Jan-2018      2.723808e+08\n",
            "Mar-2018      2.835287e+08\n"
          ]
        }
      ]
    },
    {
      "cell_type": "markdown",
      "source": [
        "## Graph 1\n",
        "\n",
        "We are trying to find the relation between state and annual income.\n",
        "\n",
        "From the bar plot, it is clear that \n",
        "\n",
        "DC has highest average annual income and Newyork has lowest average annual income"
      ],
      "metadata": {
        "id": "d6tmrUmseLEz"
      }
    },
    {
      "cell_type": "code",
      "source": [
        "f, fig = plt.subplots(figsize=(18,5))\n",
        "# ax = fig.add_axes([0,0,1,1])\n",
        "Y = set(data['state'])\n",
        "sort_Y=sorted(langs)\n",
        "#print(sort_langs)\n",
        "X = data.groupby('state')['annual_income'].mean()\n",
        "#print(students)\n",
        "plt.bar(sort_Y,X)\n",
        "plt.xticks(rotation=90)\n",
        "from matplotlib.pyplot import figure\n",
        "plt.show()\n",
        "\n"
      ],
      "metadata": {
        "colab": {
          "base_uri": "https://localhost:8080/",
          "height": 326
        },
        "id": "ETWn5wDRsFHU",
        "outputId": "93403c48-b503-40e0-c32d-6ef01575c993"
      },
      "execution_count": 103,
      "outputs": [
        {
          "output_type": "display_data",
          "data": {
            "text/plain": [
              "<Figure size 1296x360 with 1 Axes>"
            ],
            "image/png": "[encoded data removed]"
          },
          "metadata": {
            "needs_background": "light"
          }
        }
      ]
    },
    {
      "cell_type": "markdown",
      "source": [
        "## Graph 2\n",
        "\n",
        "The below line graph depicts the relation between experience of the employee in job and the interest rate.\n",
        "\n",
        "It is found that lesser experience means more interest rate."
      ],
      "metadata": {
        "id": "-JkU2Q1_emnj"
      }
    },
    {
      "cell_type": "code",
      "source": [
        "import math\n",
        "x = data.groupby('emp_length')['interest_rate'].mean()\n",
        "print(x)\n",
        "y = set(data['emp_length'])\n",
        "sort_y=[]\n",
        "for i in y:\n",
        "  if i not in sort_y and math.isnan (float(i))==False:\n",
        "    sort_y.append(i)\n",
        "sort_y=sorted(sort_y)\n",
        "print(sort_y)\n",
        "plt.plot(sort_y,x)\n",
        "plt.xticks(sort_y)\n",
        "plt.show"
      ],
      "metadata": {
        "colab": {
          "base_uri": "https://localhost:8080/",
          "height": 533
        },
        "id": "z0C3E_RHsFLa",
        "outputId": "97a8bc05-d37f-4a47-a205-68347cb1c56a"
      },
      "execution_count": 105,
      "outputs": [
        {
          "output_type": "stream",
          "name": "stdout",
          "text": [
            "emp_length\n",
            "0.0     12.660754\n",
            "1.0     12.702788\n",
            "2.0     12.625388\n",
            "3.0     12.500534\n",
            "4.0     12.242357\n",
            "5.0     12.299767\n",
            "6.0     12.501757\n",
            "7.0     12.209565\n",
            "8.0     12.672606\n",
            "9.0     12.279487\n",
            "10.0    12.247125\n",
            "Name: interest_rate, dtype: float64\n",
            "[0.0, 1.0, 2.0, 3.0, 4.0, 5.0, 6.0, 7.0, 8.0, 9.0, 10.0]\n"
          ]
        },
        {
          "output_type": "execute_result",
          "data": {
            "text/plain": [
              "<function matplotlib.pyplot.show>"
            ]
          },
          "metadata": {},
          "execution_count": 105
        },
        {
          "output_type": "display_data",
          "data": {
            "text/plain": [
              "<Figure size 432x288 with 1 Axes>"
            ],
            "image/png": "[encoded data removed]"
          },
          "metadata": {
            "needs_background": "light"
          }
        }
      ]
    },
    {
      "cell_type": "markdown",
      "source": [
        "### Graph 3\n",
        "\n",
        "The below graph shows the average annual income per type of house ownership\n",
        "\n",
        "People who mortagaed their houses seem to have more annual income"
      ],
      "metadata": {
        "id": "fygtQTV6ffIi"
      }
    },
    {
      "cell_type": "code",
      "source": [
        "x = data.groupby('homeownership')['annual_income'].mean()\n",
        "y=list(set(data['homeownership']))\n",
        "y.sort()\n",
        "plt.pie(x, labels = y)\n",
        "plt.show()"
      ],
      "metadata": {
        "colab": {
          "base_uri": "https://localhost:8080/",
          "height": 248
        },
        "id": "8WBJ4fAkM22o",
        "outputId": "55a592a1-818d-4221-f9a7-723738f37c45"
      },
      "execution_count": 106,
      "outputs": [
        {
          "output_type": "display_data",
          "data": {
            "text/plain": [
              "<Figure size 432x288 with 1 Axes>"
            ],
            "image/png": "[encoded data removed]"
          },
          "metadata": {}
        }
      ]
    },
    {
      "cell_type": "markdown",
      "source": [
        "## Graph 4\n",
        "In this line graph, we plot the average rate of interest per sub grade.\n",
        "\n",
        "Sub grade G4 has the highest interest_rate"
      ],
      "metadata": {
        "id": "1AoKY0p9gA7S"
      }
    },
    {
      "cell_type": "code",
      "source": [
        "import math\n",
        "x=data.groupby('sub_grade')['interest_rate'].mean()\n",
        "y=list(set(data['sub_grade']))\n",
        "sort_y=[]\n",
        "for i in y:\n",
        "  if i not in sort_y:\n",
        "    sort_y.append(i)\n",
        "sort_y=sorted(sort_y)\n",
        "plt.xticks(rotation=90)\n",
        "plt.plot(sort_y,x)"
      ],
      "metadata": {
        "colab": {
          "base_uri": "https://localhost:8080/",
          "height": 287
        },
        "id": "ehBIZkfYM26B",
        "outputId": "3dff7e37-2358-4649-afcf-1f2c580a84ff"
      },
      "execution_count": 107,
      "outputs": [
        {
          "output_type": "execute_result",
          "data": {
            "text/plain": [
              "[<matplotlib.lines.Line2D at 0x7fcf99d35950>]"
            ]
          },
          "metadata": {},
          "execution_count": 107
        },
        {
          "output_type": "display_data",
          "data": {
            "text/plain": [
              "<Figure size 432x288 with 1 Axes>"
            ],
            "image/png": "[encoded data removed]"
          },
          "metadata": {
            "needs_background": "light"
          }
        }
      ]
    },
    {
      "cell_type": "markdown",
      "source": [
        "## Graph 5\n",
        "The the scatter plot below, we understand that Hawaii has the highest interest rate and Maine has the least interest rate"
      ],
      "metadata": {
        "id": "KBMk6Um0gaPo"
      }
    },
    {
      "cell_type": "code",
      "source": [
        "f, fig = plt.subplots(figsize=(18,5))\n",
        "y = set(data['state'])\n",
        "x=data.groupby('state')['interest_rate'].mean()\n",
        "sort_y=sorted(y)\n",
        "plt.xticks(rotation=90)\n",
        "plt.scatter(sort_y, x, c =\"blue\")"
      ],
      "metadata": {
        "colab": {
          "base_uri": "https://localhost:8080/",
          "height": 344
        },
        "id": "GRSZVvg0M3Ch",
        "outputId": "e439d38d-5188-413b-909a-fddbccf9d089"
      },
      "execution_count": 109,
      "outputs": [
        {
          "output_type": "execute_result",
          "data": {
            "text/plain": [
              "<matplotlib.collections.PathCollection at 0x7fcf99d2db90>"
            ]
          },
          "metadata": {},
          "execution_count": 109
        },
        {
          "output_type": "display_data",
          "data": {
            "text/plain": [
              "<Figure size 1296x360 with 1 Axes>"
            ],
            "image/png": "[encoded data removed]"
          },
          "metadata": {
            "needs_background": "light"
          }
        }
      ]
    },
    {
      "cell_type": "markdown",
      "source": [
        "## I will be using linear regression and polynomial regression models\n",
        "\n",
        "### Importing necessary packages for the models"
      ],
      "metadata": {
        "id": "zT3LwvYQjAfg"
      }
    },
    {
      "cell_type": "code",
      "source": [
        "import seaborn as sns\n",
        "import re\n",
        "\n",
        "import sklearn\n",
        "from sklearn.model_selection import train_test_split\n",
        "from sklearn.preprocessing import MinMaxScaler\n",
        "from sklearn.preprocessing import PolynomialFeatures\n",
        "from sklearn.preprocessing import scale\n",
        "from sklearn.feature_selection import RFE\n",
        "from sklearn.linear_model import LinearRegression\n",
        "from sklearn.model_selection import cross_val_score\n",
        "from sklearn.model_selection import KFold\n",
        "from sklearn.model_selection import GridSearchCV\n",
        "from sklearn.pipeline import make_pipeline\n",
        "\n",
        "import warnings # supress warnings\n",
        "warnings.filterwarnings('ignore')\n"
      ],
      "metadata": {
        "id": "UQcIBQViMLdn"
      },
      "execution_count": 40,
      "outputs": []
    },
    {
      "cell_type": "markdown",
      "source": [
        "### Linear Regression\n",
        "\n",
        "Splitting the data into train and test in order to train and evaluate the data.\n",
        "\n",
        "Here, I am predicting the valie of interest rate based on loan_amount and annual_income\n",
        "\n",
        "The output is a trained linear regression model used to predict interest rate"
      ],
      "metadata": {
        "id": "uXZEx2hLjRWd"
      }
    },
    {
      "cell_type": "code",
      "source": [
        "df_train, df_test = train_test_split(data, \n",
        "                                     train_size = 0.7, \n",
        "                                     test_size = 0.3, \n",
        "                                     random_state = 10)\n",
        "y_train=df_train['interest_rate']\n",
        "X_train=df_train[['loan_amount','annual_income']]\n",
        "y_test=df_test['interest_rate']\n",
        "X_test=df_test[['loan_amount','annual_income']]\n",
        "\n",
        "\n",
        "\n",
        "from sklearn import linear_model\n",
        "regr = linear_model.LinearRegression()\n",
        "regr.fit(X_train, y_train)\n"
      ],
      "metadata": {
        "colab": {
          "base_uri": "https://localhost:8080/"
        },
        "id": "EVgJTjvAMLi2",
        "outputId": "a902aa59-30b6-412c-9a11-9d49e7318d29"
      },
      "execution_count": 110,
      "outputs": [
        {
          "output_type": "execute_result",
          "data": {
            "text/plain": [
              "LinearRegression()"
            ]
          },
          "metadata": {},
          "execution_count": 110
        }
      ]
    },
    {
      "cell_type": "markdown",
      "source": [
        "### Polynomial Regression\n",
        "\n",
        "Splitting the data into train and test in order to train and evaluate the data.\n",
        "\n",
        "Here, I am predicting the valie of interest rate based on loan_amount and annual_income\n",
        "\n",
        "The output is a trained polynomial  regression model used to predict interest rate"
      ],
      "metadata": {
        "id": "dDxWG_NIkAM8"
      }
    },
    {
      "cell_type": "code",
      "source": [
        "from sklearn.preprocessing import PolynomialFeatures\n",
        " \n",
        "poly = PolynomialFeatures(degree = 4)\n",
        "X_poly = poly.fit_transform(X_train)\n",
        " \n",
        "poly.fit(X_poly, y_train)\n"
      ],
      "metadata": {
        "colab": {
          "base_uri": "https://localhost:8080/"
        },
        "id": "_pV2mRLgWiH9",
        "outputId": "b36b19ca-ee27-415f-e16d-5097abc79c14"
      },
      "execution_count": 100,
      "outputs": [
        {
          "output_type": "execute_result",
          "data": {
            "text/plain": [
              "PolynomialFeatures(degree=4)"
            ]
          },
          "metadata": {},
          "execution_count": 100
        }
      ]
    },
    {
      "cell_type": "code",
      "source": [
        ""
      ],
      "metadata": {
        "id": "-gzrrrWNXq4c"
      },
      "execution_count": null,
      "outputs": []
    }
  ]
}